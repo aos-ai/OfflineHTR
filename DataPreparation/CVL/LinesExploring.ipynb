{
 "cells": [
  {
   "cell_type": "code",
   "execution_count": null,
   "metadata": {
    "pycharm": {
     "is_executing": false
    }
   },
   "outputs": [],
   "source": [
    "\n",
    "import os\n",
    "import PIL\n",
    "from PIL import Image\n",
    "import matplotlib.pyplot as plt\n",
    "import matplotlib.image as mpimg\n"
   ]
  },
  {
   "cell_type": "code",
   "execution_count": null,
   "metadata": {
    "pycharm": {
     "is_executing": false
    }
   },
   "outputs": [],
   "source": [
    "dataset_path = \"D:\\LineVerileri\"\n",
    "\n",
    "image_heights = []\n",
    "image_widths = []\n",
    "image_names = []"
   ]
  },
  {
   "cell_type": "code",
   "execution_count": null,
   "metadata": {
    "pycharm": {
     "is_executing": false
    }
   },
   "outputs": [],
   "source": [
    "for files in os.listdir(dataset_path):\n",
    "    print(files)\n",
    "    for file in os.listdir(os.path.join(dataset_path, files)):\n",
    "        print(file)\n",
    "        image = PIL.Image.open(dataset_path + \"\\\\\" + files + \"\\\\\" + file)\n",
    "        width, height = image.size\n",
    "        image_widths.append(width)\n",
    "        image_heights.append(height)\n",
    "        image_names.append(dataset_path + \"\\\\\" + files + \"\\\\\" + file)"
   ]
  },
  {
   "cell_type": "code",
   "execution_count": null,
   "metadata": {
    "pycharm": {
     "is_executing": false
    }
   },
   "outputs": [],
   "source": [
    "import pandas as pd\n",
    "\n",
    "df= pd.DataFrame(image_widths)\n",
    "df.head()\n",
    "\n"
   ]
  },
  {
   "cell_type": "code",
   "execution_count": null,
   "metadata": {
    "pycharm": {
     "is_executing": false
    }
   },
   "outputs": [],
   "source": [
    "df.hist(bins=20)"
   ]
  },
  {
   "cell_type": "code",
   "execution_count": null,
   "metadata": {},
   "outputs": [],
   "source": [
    "\n",
    "plt.hist(df)\n",
    "plt.axvline(1666, color='red', linewidth=1)"
   ]
  },
  {
   "cell_type": "code",
   "execution_count": null,
   "metadata": {
    "pycharm": {
     "is_executing": false
    }
   },
   "outputs": [],
   "source": [
    "df.quantile([0.25,0.50,0.75])"
   ]
  },
  {
   "cell_type": "code",
   "execution_count": null,
   "metadata": {
    "pycharm": {
     "is_executing": false
    }
   },
   "outputs": [],
   "source": [
    "df2= pd.DataFrame(image_heights)"
   ]
  },
  {
   "cell_type": "code",
   "execution_count": null,
   "metadata": {
    "pycharm": {
     "is_executing": false
    }
   },
   "outputs": [],
   "source": [
    "df2.hist(bins=20)"
   ]
  },
  {
   "cell_type": "code",
   "execution_count": null,
   "metadata": {},
   "outputs": [],
   "source": [
    "plt.hist(df2)\n",
    "plt.axvline(100, color='red', linewidth=1)\n",
    "plt.axvline(163, color='red', linewidth=1)"
   ]
  },
  {
   "cell_type": "code",
   "execution_count": null,
   "metadata": {
    "pycharm": {
     "is_executing": false
    }
   },
   "outputs": [],
   "source": [
    "count=0\n",
    "for i in image_widths:\n",
    "    if i<1666:\n",
    "        \n",
    "        try:\n",
    "            image_index=image_widths.index(i)\n",
    "            fig = plt.figure()\n",
    "            ax = fig.add_subplot(1, 2, 1)\n",
    "            imgplot = plt.imshow(mpimg.imread(image_names[image_index]))\n",
    "            ax.set_title(image_names[image_index])\n",
    "            plt.show()\n",
    "            os.remove(image_names[image_index])\n",
    "            print(\"kaldırıldı\")\n",
    "            count+=1\n",
    "        except:\n",
    "            print(\"böyle bir dosya yok\")\n",
    "if count==0:\n",
    "    print(\"hiçbir dosya silinmedi.\")\n",
    "print(count)"
   ]
  },
  {
   "cell_type": "code",
   "execution_count": null,
   "metadata": {},
   "outputs": [],
   "source": [
    "print(count)"
   ]
  },
  {
   "cell_type": "code",
   "execution_count": null,
   "metadata": {
    "pycharm": {
     "is_executing": false
    }
   },
   "outputs": [],
   "source": [
    "len(df)"
   ]
  },
  {
   "cell_type": "code",
   "execution_count": null,
   "metadata": {
    "pycharm": {
     "is_executing": false
    }
   },
   "outputs": [],
   "source": [
    "count2 =0\n",
    "for i in image_heights:\n",
    "    if i<100 or i>163:\n",
    "        try:\n",
    "            image_index=image_heights.index(i)\n",
    "            #fig = plt.figure()\n",
    "            #ax = fig.add_subplot(1, 2, 1)\n",
    "            #imgplot = plt.imshow(mpimg.imread(image_names[image_index]))\n",
    "            #ax.set_title(image_names[image_index])\n",
    "            #plt.show()\n",
    "            os.remove(image_names[image_index])\n",
    "            print(\"kaldırıldı\")\n",
    "            count2+=1\n",
    "        except:\n",
    "            print(\"böyle bir dosya yok\")\n",
    "print(count2)\n",
    "if count==0:\n",
    "    print(\"hiç silinmedi\")"
   ]
  },
  {
   "cell_type": "code",
   "execution_count": null,
   "metadata": {},
   "outputs": [],
   "source": [
    "print(count2)"
   ]
  },
  {
   "cell_type": "code",
   "execution_count": null,
   "metadata": {},
   "outputs": [],
   "source": [
    "print(count+count2)"
   ]
  },
  {
   "cell_type": "code",
   "execution_count": null,
   "metadata": {},
   "outputs": [],
   "source": [
    "top100=dict()\n",
    "direct= \"D:\\LineVerileri\"\n",
    "authors= os.listdir(direct)\n",
    "for author in authors:\n",
    "    files = os.listdir(os.path.join(direct,author))\n",
    "    top100[author] =len(files)\n",
    "sort_orders= sorted(top100.items(),key = lambda x:x[1],reverse=True)\n",
    "print(sort_orders[:100])"
   ]
  },
  {
   "cell_type": "code",
   "execution_count": null,
   "metadata": {},
   "outputs": [],
   "source": [
    "import shutil\n",
    "top100direct= \"D:\\Top100Yazar\"\n",
    "for item in sort_orders[0:100]:\n",
    "    shutil.copytree(os.path.join(direct,item[0]),os.path.join(top100direct,item[0]))"
   ]
  },
  {
   "cell_type": "code",
   "execution_count": null,
   "metadata": {
    "pycharm": {
     "is_executing": true
    }
   },
   "outputs": [],
   "source": []
  }
 ],
 "metadata": {
  "kernelspec": {
   "display_name": "Python 3",
   "language": "python",
   "name": "python3"
  },
  "language_info": {
   "codemirror_mode": {
    "name": "ipython",
    "version": 3
   },
   "file_extension": ".py",
   "mimetype": "text/x-python",
   "name": "python",
   "nbconvert_exporter": "python",
   "pygments_lexer": "ipython3",
   "version": "3.7.3"
  }
 },
 "nbformat": 4,
 "nbformat_minor": 1
}
