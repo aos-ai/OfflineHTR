{
 "cells": [
  {
   "cell_type": "code",
   "execution_count": null,
   "id": "textile-export",
   "metadata": {},
   "outputs": [],
   "source": [
    "import os\n",
    "import PIL\n",
    "from PIL import Image\n",
    "import matplotlib.pyplot as plt\n",
    "import matplotlib.image as mpimg\n",
    "\n",
    "dataset_path = \"D:\\RandomDatasetler\\words\"\n",
    "\n",
    "image_heights = []\n",
    "image_widths = []\n",
    "image_names = []\n",
    "for files in os.listdir(dataset_path):\n",
    "    for file in os.listdir(os.path.join(dataset_path, files)):\n",
    "        image = PIL.Image.open(dataset_path + \"\\\\\" + files + \"\\\\\" + file)\n",
    "        width, height = image.size\n",
    "        image_widths.append(width)\n",
    "        image_heights.append(height)\n",
    "        image_names.append(dataset_path + \"\\\\\" + files + \"\\\\\" + file)\n",
    "max_width_index = image_widths.index(max(image_widths))\n",
    "max_height_index = image_heights.index(max(image_heights))\n",
    "print(\"Max Height : \", max(image_heights), \"Max Width : \", max(image_widths))\n",
    "print(\"Average Height : \", sum(image_heights) / len(image_heights),\n",
    "      \"Average Width : \", sum(image_widths) / len(image_widths))\n",
    "print(\"Image with Max height : \", image_names[max_height_index])\n",
    "print(\"Image with Max width : \", image_names[max_width_index])\n",
    "\n"
   ]
  },
  {
   "cell_type": "code",
   "execution_count": null,
   "id": "golden-seven",
   "metadata": {},
   "outputs": [],
   "source": [
    "fig = plt.figure()\n",
    "ax = fig.add_subplot(1, 2, 1)\n",
    "imgplot = plt.imshow(mpimg.imread(image_names[max_width_index]))\n",
    "ax.set_title('Max Width')\n",
    "\n",
    "ax = fig.add_subplot(1, 2, 2)\n",
    "imgplot = plt.imshow(mpimg.imread(image_names[max_height_index]))\n",
    "imgplot.set_clim(0.0, 0.7)\n",
    "ax.set_title('Max Height')\n",
    "plt.show()"
   ]
  }
 ],
 "metadata": {
  "kernelspec": {
   "display_name": "Python 3",
   "language": "python",
   "name": "python3"
  },
  "language_info": {
   "codemirror_mode": {
    "name": "ipython",
    "version": 3
   },
   "file_extension": ".py",
   "mimetype": "text/x-python",
   "name": "python",
   "nbconvert_exporter": "python",
   "pygments_lexer": "ipython3",
   "version": "3.8.8"
  }
 },
 "nbformat": 4,
 "nbformat_minor": 5
}
