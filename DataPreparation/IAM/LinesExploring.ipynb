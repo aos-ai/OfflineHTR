{
 "cells": [
  {
   "cell_type": "code",
   "execution_count": 1,
   "id": "nonprofit-design",
   "metadata": {},
   "outputs": [
    {
     "name": "stdout",
     "output_type": "stream",
     "text": [
      "Max Height :  174 Max Width :  2270\n",
      "Max Height :  68 Max Width :  1620\n",
      "Index of max width image :  7295 File Location : .\\DirtyLines\\j07\\j07-005\\j07-005-04.png\n",
      "Index of max height image :  346 File Location : .\\DirtyLines\\a01\\a01-102\\a01-102-05.png\n",
      "Index of min width image :  1351 File Location : .\\DirtyLines\\b01\\b01-000\\b01-000-00.png\n",
      "Index of min height image :  309 File Location : .\\DirtyLines\\a01\\a01-082u\\a01-082u-08.png\n",
      "Avarage Height :  118.93891089108911 Avarage Width :  1790.1316831683168\n"
     ]
    },
    {
     "data": {
      "text/plain": [
       "Text(0.5, 1.0, 'Max Height')"
      ]
     },
     "execution_count": 1,
     "metadata": {},
     "output_type": "execute_result"
    },
    {
     "data": {
      "image/png": "[encoded data removed]",
      "text/plain": [
       "<Figure size 432x288 with 2 Axes>"
      ]
     },
     "metadata": {
      "needs_background": "light"
     },
     "output_type": "display_data"
    }
   ],
   "source": [
    "import os\n",
    "import PIL\n",
    "import numpy as np\n",
    "from PIL import Image\n",
    "import matplotlib.pyplot as plt\n",
    "import matplotlib.image as mpimg\n",
    "dir_path = \".\\\\DirtyLines\"\n",
    "\n",
    "\n",
    "file_names = []\n",
    "image_heights = []\n",
    "image_widths = []\n",
    "\n",
    "for foldername in os.listdir(dir_path):\n",
    "    for filename in os.listdir(os.path.join(dir_path, foldername)):\n",
    "        for file in os.listdir(os.path.join(dir_path, foldername,filename)):\n",
    "            image = PIL.Image.open(dir_path + \"\\\\\" + foldername + \"\\\\\" + filename + \"\\\\\" + file)\n",
    "            width, height = image.size\n",
    "\n",
    "            file_names.append(dir_path + \"\\\\\" + foldername + \"\\\\\" + filename + \"\\\\\" + file)\n",
    "            image_widths.append(width)\n",
    "            image_heights.append(height)\n",
    "\n",
    "\n",
    "maxw_index = np.argmax(image_widths)\n",
    "maxh_index = np.argmax(image_heights)\n",
    "minw_index = np.argmin(image_widths)\n",
    "minh_index = np.argmin(image_heights)\n",
    "print(\"Max Height : \",image_heights[maxh_index] , \n",
    "\"Max Width : \", image_widths[maxw_index])\n",
    "print(\"Max Height : \",image_heights[minh_index] , \n",
    "\"Max Width : \", image_widths[minw_index])\n",
    "print(\"Index of max width image : \",  str(maxw_index),\"File Location :\", file_names[maxw_index] )\n",
    "print(\"Index of max height image : \",str(maxh_index), \"File Location :\", file_names[maxh_index] )\n",
    "print(\"Index of min width image : \",  str(minw_index),\"File Location :\", file_names[minw_index] )\n",
    "print(\"Index of min height image : \",str(minh_index), \"File Location :\", file_names[minh_index] )\n",
    "print(\"Avarage Height : \", sum(image_heights) / len(image_heights),\n",
    "      \"Avarage Width : \", sum(image_widths) / len(image_widths))\n",
    "\n",
    "\n",
    "fig = plt.figure()\n",
    "ax = fig.add_subplot(1, 2, 1)\n",
    "imgplot =plt.imshow(mpimg.imread(file_names[maxw_index]), cmap=\"gray\")\n",
    "ax.set_title('Max Width')\n",
    "\n",
    "ax = fig.add_subplot(1, 2, 2)\n",
    "imgplot = plt.imshow(mpimg.imread(file_names[maxh_index]),cmap=\"gray\")\n",
    "imgplot.set_clim(0.0, 0.7)\n",
    "ax.set_title('Max Height')\n",
    "\n",
    "\n",
    "\n",
    "\n",
    "\n"
   ]
  },
  {
   "cell_type": "code",
   "execution_count": 2,
   "id": "soviet-archive",
   "metadata": {},
   "outputs": [],
   "source": [
    "import pandas as pd\n",
    "dfw =  pd.DataFrame(image_widths)\n",
    "dfh =  pd.DataFrame(image_heights)"
   ]
  },
  {
   "cell_type": "code",
   "execution_count": 4,
   "id": "controlling-validity",
   "metadata": {},
   "outputs": [
    {
     "data": {
      "image/png": "[encoded data removed]",
      "text/plain": [
       "<Figure size 720x504 with 1 Axes>"
      ]
     },
     "metadata": {
      "needs_background": "light"
     },
     "output_type": "display_data"
    }
   ],
   "source": [
    "fig, ax = plt.subplots(figsize =(10, 7))\n",
    "ax.hist(image_widths, bins = 20,lw=0.5)\n",
    "ax.axvline(x=1620,lw=0.5,ls='-', label='line at x = {}'.format(1600), c=\"red\")\n",
    "# Show plot\n",
    "plt.show()"
   ]
  },
  {
   "cell_type": "code",
   "execution_count": 5,
   "id": "absolute-nancy",
   "metadata": {},
   "outputs": [
    {
     "data": {
      "image/png": "[encoded data removed]",
      "text/plain": [
       "<Figure size 720x504 with 1 Axes>"
      ]
     },
     "metadata": {
      "needs_background": "light"
     },
     "output_type": "display_data"
    }
   ],
   "source": [
    "fig, ax = plt.subplots(figsize =(10, 7))\n",
    "ax.hist(image_heights, bins = 20,lw=0.5)\n",
    "ax.axvline(x=68,lw=0.5,ls='-', label='line at x = {}'.format(1600), c=\"red\")\n",
    "ax.axvline(x=174,lw=0.5,ls='-', label='line at x = {}'.format(1600), c=\"red\")\n",
    "# Show plot\n",
    "plt.show()"
   ]
  },
  {
   "cell_type": "code",
   "execution_count": null,
   "id": "emerging-investment",
   "metadata": {},
   "outputs": [],
   "source": []
  },
  {
   "cell_type": "code",
   "execution_count": null,
   "id": "graphic-ethnic",
   "metadata": {},
   "outputs": [],
   "source": []
  }
 ],
 "metadata": {
  "kernelspec": {
   "display_name": "Python 3",
   "language": "python",
   "name": "python3"
  },
  "language_info": {
   "codemirror_mode": {
    "name": "ipython",
    "version": 3
   },
   "file_extension": ".py",
   "mimetype": "text/x-python",
   "name": "python",
   "nbconvert_exporter": "python",
   "pygments_lexer": "ipython3",
   "version": "3.8.8"
  }
 },
 "nbformat": 4,
 "nbformat_minor": 5
}
