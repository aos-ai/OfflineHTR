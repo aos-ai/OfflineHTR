{
 "cells": [
  {
   "cell_type": "code",
   "execution_count": null,
   "id": "reasonable-flesh",
   "metadata": {},
   "outputs": [],
   "source": [
    "import os\n",
    "import PIL\n",
    "import numpy as np\n",
    "from PIL import Image\n",
    "import matplotlib.pyplot as plt\n",
    "import matplotlib.image as mpimg\n",
    "dir_path = \"D:\\\\Authors\"\n",
    "\n",
    "\n",
    "file_names = []\n",
    "image_heights = []\n",
    "image_widths = []\n",
    "\n",
    "for foldername in os.listdir(dir_path):\n",
    "    for filename in os.listdir(os.path.join(dir_path, foldername)):\n",
    "        image = PIL.Image.open(dir_path + \"\\\\\" + foldername + \"\\\\\" + filename)\n",
    "        width, height = image.size\n",
    "        \n",
    "        file_names.append(dir_path + \"\\\\\" + foldername + \"\\\\\" + filename)\n",
    "        image_widths.append(width)\n",
    "        image_heights.append(height)\n",
    "\n",
    "\n",
    "maxw_index = np.argmax(image_widths)\n",
    "maxh_index = np.argmax(image_heights)\n",
    "\n",
    "print(\"Max Height : \",image_heights[maxh_index] , \n",
    "\"Max Width : \", image_widths[maxw_index])\n",
    "print(\"Index of max width image : \",  str(maxw_index),\"File Location :\", file_names[maxw_index] )\n",
    "print(\"Index of max height image : \",str(maxh_index), \"File Location :\", file_names[maxh_index] )\n",
    "print(\"Avarage Height : \", sum(image_heights) / len(image_heights),\n",
    "      \"Avarage Width : \", sum(image_widths) / len(image_widths))\n",
    "\n",
    "\n",
    "\n",
    "\n",
    "\n",
    "\n"
   ]
  },
  {
   "cell_type": "code",
   "execution_count": null,
   "id": "premier-withdrawal",
   "metadata": {},
   "outputs": [],
   "source": [
    "\n",
    "fig = plt.figure()\n",
    "ax = fig.add_subplot(1, 2, 1)\n",
    "imgplot =plt.imshow(mpimg.imread(file_names[maxw_index]), cmap=\"gray\")\n",
    "ax.set_title('Max Width')\n",
    "\n",
    "ax = fig.add_subplot(1, 2, 2)\n",
    "imgplot = plt.imshow(mpimg.imread(file_names[maxh_index]),cmap=\"gray\")\n",
    "imgplot.set_clim(0.0, 0.7)\n",
    "ax.set_title('Max Height')\n"
   ]
  }
 ],
 "metadata": {
  "kernelspec": {
   "display_name": "Python 3",
   "language": "python",
   "name": "python3"
  },
  "language_info": {
   "codemirror_mode": {
    "name": "ipython",
    "version": 3
   },
   "file_extension": ".py",
   "mimetype": "text/x-python",
   "name": "python",
   "nbconvert_exporter": "python",
   "pygments_lexer": "ipython3",
   "version": "3.8.8"
  }
 },
 "nbformat": 4,
 "nbformat_minor": 5
}
